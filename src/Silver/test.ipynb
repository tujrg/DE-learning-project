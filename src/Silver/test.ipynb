{
 "cells": [
  {
   "cell_type": "code",
   "execution_count": 2,
   "metadata": {},
   "outputs": [],
   "source": [
    "import pandas as pd\n",
    "import polars as pl\n",
    "import numpy as np\n",
    "import json\n",
    "from google.cloud import storage\n",
    "from google.oauth2 import service_account\n",
    "from google.cloud import bigquery\n",
    "import os\n",
    "#Set up Credential for GCS\n",
    "# os.environ['GOOGLE_APPLICATION_CREDENTIALS'] = r'/opt/airflow/code/src/sql-server-replicate-0ec74ad95b13.json'\n",
    "os.environ['GOOGLE_APPLICATION_CREDENTIALS'] = r'../sql-server-replicate-0ec74ad95b13.json'\n",
    "\n",
    "credentials = service_account.Credentials.from_service_account_file(\n",
    "    # r'/opt/airflow/code/src/sql-server-replicate-0ec74ad95b13.json'\n",
    "    r'../sql-server-replicate-0ec74ad95b13.json'\n",
    ")\n",
    "bqclient = bigquery.Client(credentials=credentials, project=credentials.project_id,)"
   ]
  },
  {
   "cell_type": "code",
   "execution_count": 3,
   "metadata": {},
   "outputs": [
    {
     "data": {
      "text/html": [
       "<div><style>\n",
       ".dataframe > thead > tr,\n",
       ".dataframe > tbody > tr {\n",
       "  text-align: right;\n",
       "  white-space: pre-wrap;\n",
       "}\n",
       "</style>\n",
       "<small>shape: (100, 19)</small><table border=\"1\" class=\"dataframe\"><thead><tr><th>open</th><th>high</th><th>low</th><th>close</th><th>volume</th><th>adj_high</th><th>adj_low</th><th>adj_close</th><th>adj_open</th><th>adj_volume</th><th>split_factor</th><th>dividend</th><th>name</th><th>exchange_code</th><th>asset_type</th><th>price_currency</th><th>symbol</th><th>exchange</th><th>date</th></tr><tr><td>f64</td><td>f64</td><td>f64</td><td>f64</td><td>i64</td><td>f64</td><td>f64</td><td>f64</td><td>f64</td><td>i64</td><td>i64</td><td>f64</td><td>str</td><td>str</td><td>str</td><td>str</td><td>str</td><td>str</td><td>date</td></tr></thead><tbody><tr><td>30.13</td><td>30.25</td><td>30.04</td><td>30.04</td><td>39480</td><td>30.26</td><td>30.04</td><td>30.04</td><td>30.13</td><td>39480</td><td>1</td><td>0.0</td><td>&quot;SIMPLIFY HEALTH CARE ETF &quot;</td><td>&quot;NYSE ARCA&quot;</td><td>&quot;ETF&quot;</td><td>&quot;USD&quot;</td><td>&quot;PINK&quot;</td><td>&quot;ARCX&quot;</td><td>2025-02-24</td></tr><tr><td>244.808</td><td>248.86</td><td>244.59</td><td>247.1</td><td>51143732</td><td>248.86</td><td>244.42</td><td>247.1</td><td>244.925</td><td>51326396</td><td>1</td><td>0.0</td><td>&quot;Apple Inc&quot;</td><td>&quot;NASDAQ&quot;</td><td>&quot;Stock&quot;</td><td>&quot;USD&quot;</td><td>&quot;AAPL&quot;</td><td>&quot;XNAS&quot;</td><td>2025-02-24</td></tr><tr><td>245.95</td><td>248.69</td><td>245.22</td><td>245.55</td><td>53119400</td><td>248.69</td><td>245.22</td><td>245.55</td><td>245.95</td><td>53197431</td><td>1</td><td>0.0</td><td>&quot;Apple Inc&quot;</td><td>&quot;NASDAQ&quot;</td><td>&quot;Stock&quot;</td><td>&quot;USD&quot;</td><td>&quot;AAPL&quot;</td><td>&quot;XNAS&quot;</td><td>2025-02-21</td></tr><tr><td>30.385</td><td>30.44</td><td>30.13</td><td>30.13</td><td>14400</td><td>30.44</td><td>30.13</td><td>30.13</td><td>30.385</td><td>14374</td><td>1</td><td>0.0</td><td>&quot;SIMPLIFY HEALTH CARE ETF &quot;</td><td>&quot;NYSE ARCA&quot;</td><td>&quot;ETF&quot;</td><td>&quot;USD&quot;</td><td>&quot;PINK&quot;</td><td>&quot;ARCX&quot;</td><td>2025-02-21</td></tr><tr><td>30.3</td><td>30.57</td><td>30.3</td><td>30.49</td><td>33900</td><td>30.57</td><td>30.3</td><td>30.49</td><td>30.3</td><td>33949</td><td>1</td><td>0.0</td><td>&quot;SIMPLIFY HEALTH CARE ETF &quot;</td><td>&quot;NYSE ARCA&quot;</td><td>&quot;ETF&quot;</td><td>&quot;USD&quot;</td><td>&quot;PINK&quot;</td><td>&quot;ARCX&quot;</td><td>2025-02-20</td></tr><tr><td>&hellip;</td><td>&hellip;</td><td>&hellip;</td><td>&hellip;</td><td>&hellip;</td><td>&hellip;</td><td>&hellip;</td><td>&hellip;</td><td>&hellip;</td><td>&hellip;</td><td>&hellip;</td><td>&hellip;</td><td>&hellip;</td><td>&hellip;</td><td>&hellip;</td><td>&hellip;</td><td>&hellip;</td><td>&hellip;</td><td>&hellip;</td></tr><tr><td>31.02</td><td>31.03</td><td>30.4384</td><td>30.51</td><td>23954</td><td>31.07</td><td>30.43</td><td>30.51</td><td>31.02</td><td>23954</td><td>1</td><td>0.0</td><td>null</td><td>null</td><td>null</td><td>null</td><td>&quot;PINK&quot;</td><td>&quot;ARCX&quot;</td><td>2024-12-12</td></tr><tr><td>247.945</td><td>250.8</td><td>246.2601</td><td>246.49</td><td>42854558</td><td>250.8</td><td>246.2601</td><td>246.49</td><td>247.96</td><td>45205814</td><td>1</td><td>0.0</td><td>null</td><td>null</td><td>null</td><td>null</td><td>&quot;AAPL&quot;</td><td>&quot;XNAS&quot;</td><td>2024-12-11</td></tr><tr><td>31.33</td><td>31.3468</td><td>30.9887</td><td>31.12</td><td>65979</td><td>31.3468</td><td>30.97</td><td>31.12</td><td>31.33</td><td>65979</td><td>1</td><td>0.0</td><td>null</td><td>null</td><td>null</td><td>null</td><td>&quot;PINK&quot;</td><td>&quot;ARCX&quot;</td><td>2024-12-11</td></tr><tr><td>246.89</td><td>248.21</td><td>245.34</td><td>247.77</td><td>36873800</td><td>248.21</td><td>245.34</td><td>247.77</td><td>246.89</td><td>36914806</td><td>1</td><td>0.0</td><td>null</td><td>null</td><td>null</td><td>null</td><td>&quot;AAPL&quot;</td><td>&quot;XNAS&quot;</td><td>2024-12-10</td></tr><tr><td>31.38</td><td>31.48</td><td>31.2701</td><td>31.32</td><td>38707</td><td>31.49</td><td>31.2701</td><td>31.32</td><td>31.38</td><td>38707</td><td>1</td><td>0.0</td><td>null</td><td>null</td><td>null</td><td>null</td><td>&quot;PINK&quot;</td><td>&quot;ARCX&quot;</td><td>2024-12-10</td></tr></tbody></table></div>"
      ],
      "text/plain": [
       "shape: (100, 19)\n",
       "┌─────────┬─────────┬──────────┬────────┬───┬────────────────┬────────┬──────────┬────────────┐\n",
       "│ open    ┆ high    ┆ low      ┆ close  ┆ … ┆ price_currency ┆ symbol ┆ exchange ┆ date       │\n",
       "│ ---     ┆ ---     ┆ ---      ┆ ---    ┆   ┆ ---            ┆ ---    ┆ ---      ┆ ---        │\n",
       "│ f64     ┆ f64     ┆ f64      ┆ f64    ┆   ┆ str            ┆ str    ┆ str      ┆ date       │\n",
       "╞═════════╪═════════╪══════════╪════════╪═══╪════════════════╪════════╪══════════╪════════════╡\n",
       "│ 30.13   ┆ 30.25   ┆ 30.04    ┆ 30.04  ┆ … ┆ USD            ┆ PINK   ┆ ARCX     ┆ 2025-02-24 │\n",
       "│ 244.808 ┆ 248.86  ┆ 244.59   ┆ 247.1  ┆ … ┆ USD            ┆ AAPL   ┆ XNAS     ┆ 2025-02-24 │\n",
       "│ 245.95  ┆ 248.69  ┆ 245.22   ┆ 245.55 ┆ … ┆ USD            ┆ AAPL   ┆ XNAS     ┆ 2025-02-21 │\n",
       "│ 30.385  ┆ 30.44   ┆ 30.13    ┆ 30.13  ┆ … ┆ USD            ┆ PINK   ┆ ARCX     ┆ 2025-02-21 │\n",
       "│ 30.3    ┆ 30.57   ┆ 30.3     ┆ 30.49  ┆ … ┆ USD            ┆ PINK   ┆ ARCX     ┆ 2025-02-20 │\n",
       "│ …       ┆ …       ┆ …        ┆ …      ┆ … ┆ …              ┆ …      ┆ …        ┆ …          │\n",
       "│ 31.02   ┆ 31.03   ┆ 30.4384  ┆ 30.51  ┆ … ┆ null           ┆ PINK   ┆ ARCX     ┆ 2024-12-12 │\n",
       "│ 247.945 ┆ 250.8   ┆ 246.2601 ┆ 246.49 ┆ … ┆ null           ┆ AAPL   ┆ XNAS     ┆ 2024-12-11 │\n",
       "│ 31.33   ┆ 31.3468 ┆ 30.9887  ┆ 31.12  ┆ … ┆ null           ┆ PINK   ┆ ARCX     ┆ 2024-12-11 │\n",
       "│ 246.89  ┆ 248.21  ┆ 245.34   ┆ 247.77 ┆ … ┆ null           ┆ AAPL   ┆ XNAS     ┆ 2024-12-10 │\n",
       "│ 31.38   ┆ 31.48   ┆ 31.2701  ┆ 31.32  ┆ … ┆ null           ┆ PINK   ┆ ARCX     ┆ 2024-12-10 │\n",
       "└─────────┴─────────┴──────────┴────────┴───┴────────────────┴────────┴──────────┴────────────┘"
      ]
     },
     "execution_count": 3,
     "metadata": {},
     "output_type": "execute_result"
    }
   ],
   "source": [
    "project_name = \"sql-server-replicate\"\n",
    "bucket_name = \"coding-pyspark-workspace-global\"\n",
    "bronze_path = \"tu_mai/SilverLayer/EndOfDay\"\n",
    "silver_path = \"tu_mai/SilverLayer\"\n",
    "\n",
    "gcs_path = f\"gs://{bucket_name}/{bronze_path}/\"\n",
    "\n",
    "def get_bronze_data(gcs_path):\n",
    "    \"\"\" Get EndOfDay raw data into a Dataframe\n",
    "    Return:\n",
    "        Dataframe about EndOfDay data\n",
    "    \"\"\"\n",
    "\n",
    "    # Read the Delta table directly into a Polars DataFrame\n",
    "    df = pl.read_delta(gcs_path)\n",
    "\n",
    "    # print(df)\n",
    "    return df\n",
    "\n",
    "df = get_bronze_data(gcs_path)\n",
    "df"
   ]
  },
  {
   "cell_type": "code",
   "execution_count": 4,
   "metadata": {},
   "outputs": [
    {
     "data": {
      "text/plain": [
       "['open',\n",
       " 'high',\n",
       " 'low',\n",
       " 'close',\n",
       " 'volume',\n",
       " 'adj_high',\n",
       " 'adj_low',\n",
       " 'adj_close',\n",
       " 'adj_open',\n",
       " 'adj_volume',\n",
       " 'split_factor',\n",
       " 'dividend',\n",
       " 'name',\n",
       " 'exchange_code',\n",
       " 'asset_type',\n",
       " 'price_currency',\n",
       " 'symbol',\n",
       " 'exchange',\n",
       " 'date']"
      ]
     },
     "execution_count": 4,
     "metadata": {},
     "output_type": "execute_result"
    }
   ],
   "source": [
    "df.columns"
   ]
  },
  {
   "cell_type": "code",
   "execution_count": 9,
   "metadata": {},
   "outputs": [
    {
     "data": {
      "text/html": [
       "<div><style>\n",
       ".dataframe > thead > tr,\n",
       ".dataframe > tbody > tr {\n",
       "  text-align: right;\n",
       "  white-space: pre-wrap;\n",
       "}\n",
       "</style>\n",
       "<small>shape: (108, 37)</small><table border=\"1\" class=\"dataframe\"><thead><tr><th>company_name</th><th>ticker</th><th>item_type</th><th>sector</th><th>industry</th><th>exchange_code</th><th>full_time_employees</th><th>birth_year</th><th>exercised</th><th>function</th><th>name</th><th>salary</th><th>incorporation</th><th>incorporation_description</th><th>end_fiscal</th><th>phone</th><th>company_website</th><th>about</th><th>acronym1</th><th>alpha2_code</th><th>city</th><th>country</th><th>exchange_mic</th><th>exchange_name</th><th>website</th><th>address_city</th><th>address_street1</th><th>address_street2</th><th>address_postal_code</th><th>address_stateOrCountry</th><th>address_state_or_country_description</th><th>post_address_city</th><th>post_address_street1</th><th>post_address_street2</th><th>post_address_postal_code</th><th>post_address_stateOrCountry</th><th>post_address_state_or_country_description</th></tr><tr><td>str</td><td>str</td><td>str</td><td>str</td><td>str</td><td>str</td><td>str</td><td>str</td><td>str</td><td>str</td><td>str</td><td>i64</td><td>str</td><td>str</td><td>str</td><td>str</td><td>str</td><td>str</td><td>str</td><td>str</td><td>str</td><td>str</td><td>str</td><td>str</td><td>str</td><td>str</td><td>str</td><td>str</td><td>str</td><td>str</td><td>str</td><td>str</td><td>str</td><td>str</td><td>str</td><td>str</td><td>str</td></tr></thead><tbody><tr><td>&quot;MICROSOFT CORP&quot;</td><td>&quot;MSFT&quot;</td><td>&quot;equity&quot;</td><td>&quot;Technology&quot;</td><td>&quot;Software—Infrastructure&quot;</td><td>&quot;NMS&quot;</td><td>&quot;221000&quot;</td><td>&quot;&quot;</td><td>&quot;&quot;</td><td>&quot;Vice President of Investor Rel…</td><td>&quot;Mr. Brett&nbsp;&nbsp;Iversen&quot;</td><td>0</td><td>&quot;WA&quot;</td><td>&quot;WA&quot;</td><td>&quot;0630&quot;</td><td>&quot;425-882-8080&quot;</td><td>&quot;https://www.microsoft.com&quot;</td><td>&quot;Microsoft Corporation develops…</td><td>&quot;IEX&quot;</td><td>&quot;US&quot;</td><td>&quot;New York&quot;</td><td>&quot;USA&quot;</td><td>&quot;IEXG&quot;</td><td>&quot;Investors Exchange&quot;</td><td>&quot;www.iextrading.com&quot;</td><td>&quot;REDMOND&quot;</td><td>&quot;ONE MICROSOFT WAY&quot;</td><td>&quot;&quot;</td><td>&quot;98052-6399&quot;</td><td>&quot;WA&quot;</td><td>&quot;WA&quot;</td><td>&quot;REDMOND&quot;</td><td>&quot;ONE MICROSOFT WAY&quot;</td><td>&quot;&quot;</td><td>&quot;98052-6399&quot;</td><td>&quot;WA&quot;</td><td>&quot;WA&quot;</td></tr><tr><td>&quot;MICROSOFT CORP&quot;</td><td>&quot;MSFT&quot;</td><td>&quot;equity&quot;</td><td>&quot;Technology&quot;</td><td>&quot;Software—Infrastructure&quot;</td><td>&quot;NMS&quot;</td><td>&quot;221000&quot;</td><td>&quot;&quot;</td><td>&quot;&quot;</td><td>&quot;Vice President of Investor Rel…</td><td>&quot;Mr. Brett&nbsp;&nbsp;Iversen&quot;</td><td>0</td><td>&quot;WA&quot;</td><td>&quot;WA&quot;</td><td>&quot;0630&quot;</td><td>&quot;425-882-8080&quot;</td><td>&quot;https://www.microsoft.com&quot;</td><td>&quot;Microsoft Corporation develops…</td><td>&quot;NASDAQ&quot;</td><td>&quot;US&quot;</td><td>&quot;NEW YORK&quot;</td><td>&quot;&quot;</td><td>&quot;XNAS&quot;</td><td>&quot;NASDAQ - ALL MARKETS&quot;</td><td>&quot;www.nasdaq.com&quot;</td><td>&quot;REDMOND&quot;</td><td>&quot;ONE MICROSOFT WAY&quot;</td><td>&quot;&quot;</td><td>&quot;98052-6399&quot;</td><td>&quot;WA&quot;</td><td>&quot;WA&quot;</td><td>&quot;REDMOND&quot;</td><td>&quot;ONE MICROSOFT WAY&quot;</td><td>&quot;&quot;</td><td>&quot;98052-6399&quot;</td><td>&quot;WA&quot;</td><td>&quot;WA&quot;</td></tr><tr><td>&quot;MICROSOFT CORP&quot;</td><td>&quot;MSFT&quot;</td><td>&quot;equity&quot;</td><td>&quot;Technology&quot;</td><td>&quot;Software—Infrastructure&quot;</td><td>&quot;NMS&quot;</td><td>&quot;221000&quot;</td><td>&quot;&quot;</td><td>&quot;&quot;</td><td>&quot;Vice President of Investor Rel…</td><td>&quot;Mr. Brett&nbsp;&nbsp;Iversen&quot;</td><td>0</td><td>&quot;WA&quot;</td><td>&quot;WA&quot;</td><td>&quot;0630&quot;</td><td>&quot;425-882-8080&quot;</td><td>&quot;https://www.microsoft.com&quot;</td><td>&quot;Microsoft Corporation develops…</td><td>&quot;NASDAQ&quot;</td><td>&quot;US&quot;</td><td>&quot;New York&quot;</td><td>&quot;USA&quot;</td><td>&quot;XNAS&quot;</td><td>&quot;NASDAQ Stock Exchange&quot;</td><td>&quot;www.nasdaq.com&quot;</td><td>&quot;REDMOND&quot;</td><td>&quot;ONE MICROSOFT WAY&quot;</td><td>&quot;&quot;</td><td>&quot;98052-6399&quot;</td><td>&quot;WA&quot;</td><td>&quot;WA&quot;</td><td>&quot;REDMOND&quot;</td><td>&quot;ONE MICROSOFT WAY&quot;</td><td>&quot;&quot;</td><td>&quot;98052-6399&quot;</td><td>&quot;WA&quot;</td><td>&quot;WA&quot;</td></tr><tr><td>&quot;MICROSOFT CORP&quot;</td><td>&quot;MSFT&quot;</td><td>&quot;equity&quot;</td><td>&quot;Technology&quot;</td><td>&quot;Software—Infrastructure&quot;</td><td>&quot;NMS&quot;</td><td>&quot;221000&quot;</td><td>&quot;1966&quot;</td><td>&quot;&quot;</td><td>&quot;Corporate VP &amp; Chief Accountin…</td><td>&quot;Ms. Alice L. Jolla&quot;</td><td>0</td><td>&quot;WA&quot;</td><td>&quot;WA&quot;</td><td>&quot;0630&quot;</td><td>&quot;425-882-8080&quot;</td><td>&quot;https://www.microsoft.com&quot;</td><td>&quot;Microsoft Corporation develops…</td><td>&quot;IEX&quot;</td><td>&quot;US&quot;</td><td>&quot;New York&quot;</td><td>&quot;USA&quot;</td><td>&quot;IEXG&quot;</td><td>&quot;Investors Exchange&quot;</td><td>&quot;www.iextrading.com&quot;</td><td>&quot;REDMOND&quot;</td><td>&quot;ONE MICROSOFT WAY&quot;</td><td>&quot;&quot;</td><td>&quot;98052-6399&quot;</td><td>&quot;WA&quot;</td><td>&quot;WA&quot;</td><td>&quot;REDMOND&quot;</td><td>&quot;ONE MICROSOFT WAY&quot;</td><td>&quot;&quot;</td><td>&quot;98052-6399&quot;</td><td>&quot;WA&quot;</td><td>&quot;WA&quot;</td></tr><tr><td>&quot;MICROSOFT CORP&quot;</td><td>&quot;MSFT&quot;</td><td>&quot;equity&quot;</td><td>&quot;Technology&quot;</td><td>&quot;Software—Infrastructure&quot;</td><td>&quot;NMS&quot;</td><td>&quot;221000&quot;</td><td>&quot;1966&quot;</td><td>&quot;&quot;</td><td>&quot;Corporate VP &amp; Chief Accountin…</td><td>&quot;Ms. Alice L. Jolla&quot;</td><td>0</td><td>&quot;WA&quot;</td><td>&quot;WA&quot;</td><td>&quot;0630&quot;</td><td>&quot;425-882-8080&quot;</td><td>&quot;https://www.microsoft.com&quot;</td><td>&quot;Microsoft Corporation develops…</td><td>&quot;NASDAQ&quot;</td><td>&quot;US&quot;</td><td>&quot;NEW YORK&quot;</td><td>&quot;&quot;</td><td>&quot;XNAS&quot;</td><td>&quot;NASDAQ - ALL MARKETS&quot;</td><td>&quot;www.nasdaq.com&quot;</td><td>&quot;REDMOND&quot;</td><td>&quot;ONE MICROSOFT WAY&quot;</td><td>&quot;&quot;</td><td>&quot;98052-6399&quot;</td><td>&quot;WA&quot;</td><td>&quot;WA&quot;</td><td>&quot;REDMOND&quot;</td><td>&quot;ONE MICROSOFT WAY&quot;</td><td>&quot;&quot;</td><td>&quot;98052-6399&quot;</td><td>&quot;WA&quot;</td><td>&quot;WA&quot;</td></tr><tr><td>&hellip;</td><td>&hellip;</td><td>&hellip;</td><td>&hellip;</td><td>&hellip;</td><td>&hellip;</td><td>&hellip;</td><td>&hellip;</td><td>&hellip;</td><td>&hellip;</td><td>&hellip;</td><td>&hellip;</td><td>&hellip;</td><td>&hellip;</td><td>&hellip;</td><td>&hellip;</td><td>&hellip;</td><td>&hellip;</td><td>&hellip;</td><td>&hellip;</td><td>&hellip;</td><td>&hellip;</td><td>&hellip;</td><td>&hellip;</td><td>&hellip;</td><td>&hellip;</td><td>&hellip;</td><td>&hellip;</td><td>&hellip;</td><td>&hellip;</td><td>&hellip;</td><td>&hellip;</td><td>&hellip;</td><td>&hellip;</td><td>&hellip;</td><td>&hellip;</td><td>&hellip;</td></tr><tr><td>&quot;MICROSOFT CORP&quot;</td><td>&quot;MSFT&quot;</td><td>&quot;equity&quot;</td><td>&quot;Technology&quot;</td><td>&quot;Software—Infrastructure&quot;</td><td>&quot;NMS&quot;</td><td>&quot;221000&quot;</td><td>&quot;1959&quot;</td><td>&quot;&quot;</td><td>&quot;Pres &amp; Vice Chairman&quot;</td><td>&quot;Mr. Bradford L. Smith LCA&quot;</td><td>4660000</td><td>&quot;WA&quot;</td><td>&quot;WA&quot;</td><td>&quot;0630&quot;</td><td>&quot;425-882-8080&quot;</td><td>&quot;https://www.microsoft.com&quot;</td><td>&quot;Microsoft Corporation develops…</td><td>&quot;NASDAQ&quot;</td><td>&quot;US&quot;</td><td>&quot;NEW YORK&quot;</td><td>&quot;&quot;</td><td>&quot;XNAS&quot;</td><td>&quot;NASDAQ - ALL MARKETS&quot;</td><td>&quot;www.nasdaq.com&quot;</td><td>&quot;REDMOND&quot;</td><td>&quot;ONE MICROSOFT WAY&quot;</td><td>&quot;&quot;</td><td>&quot;98052-6399&quot;</td><td>&quot;WA&quot;</td><td>&quot;WA&quot;</td><td>&quot;REDMOND&quot;</td><td>&quot;ONE MICROSOFT WAY&quot;</td><td>&quot;&quot;</td><td>&quot;98052-6399&quot;</td><td>&quot;WA&quot;</td><td>&quot;WA&quot;</td></tr><tr><td>&quot;MICROSOFT CORP&quot;</td><td>&quot;MSFT&quot;</td><td>&quot;equity&quot;</td><td>&quot;Technology&quot;</td><td>&quot;Software—Infrastructure&quot;</td><td>&quot;NMS&quot;</td><td>&quot;221000&quot;</td><td>&quot;1959&quot;</td><td>&quot;&quot;</td><td>&quot;Pres &amp; Vice Chairman&quot;</td><td>&quot;Mr. Bradford L. Smith LCA&quot;</td><td>4660000</td><td>&quot;WA&quot;</td><td>&quot;WA&quot;</td><td>&quot;0630&quot;</td><td>&quot;425-882-8080&quot;</td><td>&quot;https://www.microsoft.com&quot;</td><td>&quot;Microsoft Corporation develops…</td><td>&quot;NASDAQ&quot;</td><td>&quot;US&quot;</td><td>&quot;New York&quot;</td><td>&quot;USA&quot;</td><td>&quot;XNAS&quot;</td><td>&quot;NASDAQ Stock Exchange&quot;</td><td>&quot;www.nasdaq.com&quot;</td><td>&quot;REDMOND&quot;</td><td>&quot;ONE MICROSOFT WAY&quot;</td><td>&quot;&quot;</td><td>&quot;98052-6399&quot;</td><td>&quot;WA&quot;</td><td>&quot;WA&quot;</td><td>&quot;REDMOND&quot;</td><td>&quot;ONE MICROSOFT WAY&quot;</td><td>&quot;&quot;</td><td>&quot;98052-6399&quot;</td><td>&quot;WA&quot;</td><td>&quot;WA&quot;</td></tr><tr><td>&quot;MICROSOFT CORP&quot;</td><td>&quot;MSFT&quot;</td><td>&quot;equity&quot;</td><td>&quot;Technology&quot;</td><td>&quot;Software—Infrastructure&quot;</td><td>&quot;NMS&quot;</td><td>&quot;221000&quot;</td><td>&quot;1967&quot;</td><td>&quot;&quot;</td><td>&quot;Chairman &amp; CEO&quot;</td><td>&quot;Mr. Satya&nbsp;&nbsp;Nadella&quot;</td><td>12680000</td><td>&quot;WA&quot;</td><td>&quot;WA&quot;</td><td>&quot;0630&quot;</td><td>&quot;425-882-8080&quot;</td><td>&quot;https://www.microsoft.com&quot;</td><td>&quot;Microsoft Corporation develops…</td><td>&quot;IEX&quot;</td><td>&quot;US&quot;</td><td>&quot;New York&quot;</td><td>&quot;USA&quot;</td><td>&quot;IEXG&quot;</td><td>&quot;Investors Exchange&quot;</td><td>&quot;www.iextrading.com&quot;</td><td>&quot;REDMOND&quot;</td><td>&quot;ONE MICROSOFT WAY&quot;</td><td>&quot;&quot;</td><td>&quot;98052-6399&quot;</td><td>&quot;WA&quot;</td><td>&quot;WA&quot;</td><td>&quot;REDMOND&quot;</td><td>&quot;ONE MICROSOFT WAY&quot;</td><td>&quot;&quot;</td><td>&quot;98052-6399&quot;</td><td>&quot;WA&quot;</td><td>&quot;WA&quot;</td></tr><tr><td>&quot;MICROSOFT CORP&quot;</td><td>&quot;MSFT&quot;</td><td>&quot;equity&quot;</td><td>&quot;Technology&quot;</td><td>&quot;Software—Infrastructure&quot;</td><td>&quot;NMS&quot;</td><td>&quot;221000&quot;</td><td>&quot;1967&quot;</td><td>&quot;&quot;</td><td>&quot;Chairman &amp; CEO&quot;</td><td>&quot;Mr. Satya&nbsp;&nbsp;Nadella&quot;</td><td>12680000</td><td>&quot;WA&quot;</td><td>&quot;WA&quot;</td><td>&quot;0630&quot;</td><td>&quot;425-882-8080&quot;</td><td>&quot;https://www.microsoft.com&quot;</td><td>&quot;Microsoft Corporation develops…</td><td>&quot;NASDAQ&quot;</td><td>&quot;US&quot;</td><td>&quot;NEW YORK&quot;</td><td>&quot;&quot;</td><td>&quot;XNAS&quot;</td><td>&quot;NASDAQ - ALL MARKETS&quot;</td><td>&quot;www.nasdaq.com&quot;</td><td>&quot;REDMOND&quot;</td><td>&quot;ONE MICROSOFT WAY&quot;</td><td>&quot;&quot;</td><td>&quot;98052-6399&quot;</td><td>&quot;WA&quot;</td><td>&quot;WA&quot;</td><td>&quot;REDMOND&quot;</td><td>&quot;ONE MICROSOFT WAY&quot;</td><td>&quot;&quot;</td><td>&quot;98052-6399&quot;</td><td>&quot;WA&quot;</td><td>&quot;WA&quot;</td></tr><tr><td>&quot;MICROSOFT CORP&quot;</td><td>&quot;MSFT&quot;</td><td>&quot;equity&quot;</td><td>&quot;Technology&quot;</td><td>&quot;Software—Infrastructure&quot;</td><td>&quot;NMS&quot;</td><td>&quot;221000&quot;</td><td>&quot;1967&quot;</td><td>&quot;&quot;</td><td>&quot;Chairman &amp; CEO&quot;</td><td>&quot;Mr. Satya&nbsp;&nbsp;Nadella&quot;</td><td>12680000</td><td>&quot;WA&quot;</td><td>&quot;WA&quot;</td><td>&quot;0630&quot;</td><td>&quot;425-882-8080&quot;</td><td>&quot;https://www.microsoft.com&quot;</td><td>&quot;Microsoft Corporation develops…</td><td>&quot;NASDAQ&quot;</td><td>&quot;US&quot;</td><td>&quot;New York&quot;</td><td>&quot;USA&quot;</td><td>&quot;XNAS&quot;</td><td>&quot;NASDAQ Stock Exchange&quot;</td><td>&quot;www.nasdaq.com&quot;</td><td>&quot;REDMOND&quot;</td><td>&quot;ONE MICROSOFT WAY&quot;</td><td>&quot;&quot;</td><td>&quot;98052-6399&quot;</td><td>&quot;WA&quot;</td><td>&quot;WA&quot;</td><td>&quot;REDMOND&quot;</td><td>&quot;ONE MICROSOFT WAY&quot;</td><td>&quot;&quot;</td><td>&quot;98052-6399&quot;</td><td>&quot;WA&quot;</td><td>&quot;WA&quot;</td></tr></tbody></table></div>"
      ],
      "text/plain": [
       "shape: (108, 37)\n",
       "┌────────────┬────────┬───────────┬────────────┬───┬───────────┬───────────┬───────────┬───────────┐\n",
       "│ company_na ┆ ticker ┆ item_type ┆ sector     ┆ … ┆ post_addr ┆ post_addr ┆ post_addr ┆ post_addr │\n",
       "│ me         ┆ ---    ┆ ---       ┆ ---        ┆   ┆ ess_stree ┆ ess_posta ┆ ess_state ┆ ess_state │\n",
       "│ ---        ┆ str    ┆ str       ┆ str        ┆   ┆ t2        ┆ l_code    ┆ OrCountry ┆ _or_count │\n",
       "│ str        ┆        ┆           ┆            ┆   ┆ ---       ┆ ---       ┆ ---       ┆ ry_…      │\n",
       "│            ┆        ┆           ┆            ┆   ┆ str       ┆ str       ┆ str       ┆ ---       │\n",
       "│            ┆        ┆           ┆            ┆   ┆           ┆           ┆           ┆ str       │\n",
       "╞════════════╪════════╪═══════════╪════════════╪═══╪═══════════╪═══════════╪═══════════╪═══════════╡\n",
       "│ MICROSOFT  ┆ MSFT   ┆ equity    ┆ Technology ┆ … ┆           ┆ 98052-639 ┆ WA        ┆ WA        │\n",
       "│ CORP       ┆        ┆           ┆            ┆   ┆           ┆ 9         ┆           ┆           │\n",
       "│ MICROSOFT  ┆ MSFT   ┆ equity    ┆ Technology ┆ … ┆           ┆ 98052-639 ┆ WA        ┆ WA        │\n",
       "│ CORP       ┆        ┆           ┆            ┆   ┆           ┆ 9         ┆           ┆           │\n",
       "│ MICROSOFT  ┆ MSFT   ┆ equity    ┆ Technology ┆ … ┆           ┆ 98052-639 ┆ WA        ┆ WA        │\n",
       "│ CORP       ┆        ┆           ┆            ┆   ┆           ┆ 9         ┆           ┆           │\n",
       "│ MICROSOFT  ┆ MSFT   ┆ equity    ┆ Technology ┆ … ┆           ┆ 98052-639 ┆ WA        ┆ WA        │\n",
       "│ CORP       ┆        ┆           ┆            ┆   ┆           ┆ 9         ┆           ┆           │\n",
       "│ MICROSOFT  ┆ MSFT   ┆ equity    ┆ Technology ┆ … ┆           ┆ 98052-639 ┆ WA        ┆ WA        │\n",
       "│ CORP       ┆        ┆           ┆            ┆   ┆           ┆ 9         ┆           ┆           │\n",
       "│ …          ┆ …      ┆ …         ┆ …          ┆ … ┆ …         ┆ …         ┆ …         ┆ …         │\n",
       "│ MICROSOFT  ┆ MSFT   ┆ equity    ┆ Technology ┆ … ┆           ┆ 98052-639 ┆ WA        ┆ WA        │\n",
       "│ CORP       ┆        ┆           ┆            ┆   ┆           ┆ 9         ┆           ┆           │\n",
       "│ MICROSOFT  ┆ MSFT   ┆ equity    ┆ Technology ┆ … ┆           ┆ 98052-639 ┆ WA        ┆ WA        │\n",
       "│ CORP       ┆        ┆           ┆            ┆   ┆           ┆ 9         ┆           ┆           │\n",
       "│ MICROSOFT  ┆ MSFT   ┆ equity    ┆ Technology ┆ … ┆           ┆ 98052-639 ┆ WA        ┆ WA        │\n",
       "│ CORP       ┆        ┆           ┆            ┆   ┆           ┆ 9         ┆           ┆           │\n",
       "│ MICROSOFT  ┆ MSFT   ┆ equity    ┆ Technology ┆ … ┆           ┆ 98052-639 ┆ WA        ┆ WA        │\n",
       "│ CORP       ┆        ┆           ┆            ┆   ┆           ┆ 9         ┆           ┆           │\n",
       "│ MICROSOFT  ┆ MSFT   ┆ equity    ┆ Technology ┆ … ┆           ┆ 98052-639 ┆ WA        ┆ WA        │\n",
       "│ CORP       ┆        ┆           ┆            ┆   ┆           ┆ 9         ┆           ┆           │\n",
       "└────────────┴────────┴───────────┴────────────┴───┴───────────┴───────────┴───────────┴───────────┘"
      ]
     },
     "execution_count": 9,
     "metadata": {},
     "output_type": "execute_result"
    }
   ],
   "source": [
    "def validate_data(df):\n",
    "    \"\"\" Validate polar Dataframe\n",
    "    Args:\n",
    "        df: Bronze polar dataframe\n",
    "    Return:\n",
    "        Validated polar dataframe\n",
    "    \"\"\"\n",
    "\n",
    "    # Replace '.' with '_' in all column names\n",
    "    df = df.rename({col: col.replace(\".\", \"_\") for col in df.columns})\n",
    "\n",
    "    # Rename columns\n",
    "    df = df.rename({\"name\": \"company_name\"})\n",
    "    df = df.rename({\"website\": \"company_website\"})\n",
    "    # Unnest struct columns\n",
    "    df = df.unnest([\"key_executives\", \"stock_exchanges\"])\n",
    "\n",
    "    # Convert salary column: remove \"M\", cast to float, multiply by 1e6, then cast to int using with_columns\n",
    "    try:\n",
    "        df = df.with_columns([\n",
    "            (pl.col(\"salary\")\n",
    "            .str.replace(\"M\", \"\")\n",
    "            .cast(pl.Float64) * 1_000_000)\n",
    "            .cast(pl.Int64)\n",
    "            .alias(\"salary\")\n",
    "        ])\n",
    "    except:\n",
    "        df = df.with_columns(\n",
    "            pl.col(\"salary\").replace(\"\",0)\n",
    "        )\n",
    "\n",
    "        df = df.with_columns([\n",
    "            (pl.col(\"salary\")\n",
    "            .str.replace(\"M\", \"\")\n",
    "            .cast(pl.Float64) * 1_000_000)\n",
    "            .cast(pl.Int64)\n",
    "            .alias(\"salary\")\n",
    "        ])\n",
    "    return df\n",
    "\n",
    "tmp = validate_data(df)\n",
    "tmp"
   ]
  },
  {
   "cell_type": "code",
   "execution_count": 79,
   "metadata": {},
   "outputs": [
    {
     "name": "stdout",
     "output_type": "stream",
     "text": [
      "shape: (3, 1)\n",
      "┌──────────┐\n",
      "│ salary   │\n",
      "│ ---      │\n",
      "│ i64      │\n",
      "╞══════════╡\n",
      "│ 12680000 │\n",
      "│ 8550000  │\n",
      "│ 15000000 │\n",
      "└──────────┘\n"
     ]
    }
   ],
   "source": [
    "import polars as pl\n",
    "\n",
    "# Sample DataFrame with salary as string\n",
    "df = pl.DataFrame({\n",
    "    \"salary\": [\"12.68M\", \"8.55M\", \"15.00M\"]\n",
    "})\n",
    "\n",
    "# Convert salary column: remove \"M\", cast to float, multiply by 1e6, then cast to int using with_columns\n",
    "df = df.with_columns([\n",
    "    (pl.col(\"salary\")\n",
    "     .str.replace(\"M\", \"\")\n",
    "     .cast(pl.Float64) * 1_000_000)\n",
    "    .cast(pl.Int64)\n",
    "    .alias(\"salary\")\n",
    "])\n",
    "\n",
    "print(df)\n"
   ]
  }
 ],
 "metadata": {
  "kernelspec": {
   "display_name": "Python 3",
   "language": "python",
   "name": "python3"
  },
  "language_info": {
   "codemirror_mode": {
    "name": "ipython",
    "version": 3
   },
   "file_extension": ".py",
   "mimetype": "text/x-python",
   "name": "python",
   "nbconvert_exporter": "python",
   "pygments_lexer": "ipython3",
   "version": "3.10.11"
  }
 },
 "nbformat": 4,
 "nbformat_minor": 2
}
